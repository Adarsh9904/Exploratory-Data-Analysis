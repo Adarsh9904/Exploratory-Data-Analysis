{
    "cells": [
        {
            "cell_type": "markdown",
            "metadata": {},
            "source": "# Machine Learning Foundation\n\n## Section 1, Part b: Reading Data Lab"
        },
        {
            "cell_type": "code",
            "execution_count": 1,
            "metadata": {},
            "outputs": [],
            "source": "# Imports\nimport sqlite3 as sq3\nimport pandas.io.sql as pds\nimport pandas as pd"
        },
        {
            "cell_type": "code",
            "execution_count": 2,
            "metadata": {},
            "outputs": [],
            "source": "# The code was removed by Watson Studio for sharing."
        },
        {
            "cell_type": "code",
            "execution_count": 3,
            "metadata": {},
            "outputs": [],
            "source": "from ibm_botocore.client import Config\nimport ibm_boto3\ncos = ibm_boto3.client(service_name='s3',\n    ibm_api_key_id=credentials['IBM_API_KEY_ID'],\n    ibm_service_instance_id=credentials['IAM_SERVICE_ID'],\n    ibm_auth_endpoint=credentials['IBM_AUTH_ENDPOINT'],\n    config=Config(signature_version='oauth'),\n    endpoint_url=credentials['ENDPOINT'])\n\n\ncos.download_file(Bucket=credentials['BUCKET'],Key='baseball.db',Filename='baseball.db')"
        },
        {
            "cell_type": "markdown",
            "metadata": {},
            "source": "## Lab Exercise: Reading in database files\n\n - Create a variable, `path`, containing the path to the `baseball.db` contained in `resources/`\n - Create a connection, `con`, that is connected to database at `path`\n - Create a variable, `query`, containing a SQL query which reads in all data from the `allstarfull` table\n - Create a variable, `observations`, by using pandas' [read_sql](https://pandas.pydata.org/pandas-docs/stable/reference/api/pandas.read_sql.html)\n\n### Optional\n - Create a variable, `tables`, which reads in all data from the table `sqlite_master`\n - Pretend that you were interesting in creating a new baseball hall of fame. Join and analyze the tables to evaluate the top 3 all time best baseball players."
        },
        {
            "cell_type": "code",
            "execution_count": 4,
            "metadata": {},
            "outputs": [
                {
                    "data": {
                        "text/html": "<div>\n<style scoped>\n    .dataframe tbody tr th:only-of-type {\n        vertical-align: middle;\n    }\n\n    .dataframe tbody tr th {\n        vertical-align: top;\n    }\n\n    .dataframe thead th {\n        text-align: right;\n    }\n</style>\n<table border=\"1\" class=\"dataframe\">\n  <thead>\n    <tr style=\"text-align: right;\">\n      <th></th>\n      <th>type</th>\n      <th>name</th>\n      <th>tbl_name</th>\n      <th>rootpage</th>\n      <th>sql</th>\n    </tr>\n  </thead>\n  <tbody>\n    <tr>\n      <th>0</th>\n      <td>table</td>\n      <td>allstarfull</td>\n      <td>allstarfull</td>\n      <td>2</td>\n      <td>CREATE TABLE \"allstarfull\" (\\n\"index\" INTEGER,...</td>\n    </tr>\n    <tr>\n      <th>1</th>\n      <td>index</td>\n      <td>ix_allstarfull_index</td>\n      <td>allstarfull</td>\n      <td>3</td>\n      <td>CREATE INDEX \"ix_allstarfull_index\"ON \"allstar...</td>\n    </tr>\n    <tr>\n      <th>2</th>\n      <td>table</td>\n      <td>schools</td>\n      <td>schools</td>\n      <td>26</td>\n      <td>CREATE TABLE \"schools\" (\\n\"index\" INTEGER,\\n  ...</td>\n    </tr>\n    <tr>\n      <th>3</th>\n      <td>index</td>\n      <td>ix_schools_index</td>\n      <td>schools</td>\n      <td>31</td>\n      <td>CREATE INDEX \"ix_schools_index\"ON \"schools\" (\"...</td>\n    </tr>\n    <tr>\n      <th>4</th>\n      <td>table</td>\n      <td>batting</td>\n      <td>batting</td>\n      <td>99</td>\n      <td>CREATE TABLE \"batting\" (\\n\"index\" INTEGER,\\n  ...</td>\n    </tr>\n    <tr>\n      <th>5</th>\n      <td>index</td>\n      <td>ix_batting_index</td>\n      <td>batting</td>\n      <td>100</td>\n      <td>CREATE INDEX \"ix_batting_index\"ON \"batting\" (\"...</td>\n    </tr>\n  </tbody>\n</table>\n</div>",
                        "text/plain": "    type                  name     tbl_name  rootpage  \\\n0  table           allstarfull  allstarfull         2   \n1  index  ix_allstarfull_index  allstarfull         3   \n2  table               schools      schools        26   \n3  index      ix_schools_index      schools        31   \n4  table               batting      batting        99   \n5  index      ix_batting_index      batting       100   \n\n                                                 sql  \n0  CREATE TABLE \"allstarfull\" (\\n\"index\" INTEGER,...  \n1  CREATE INDEX \"ix_allstarfull_index\"ON \"allstar...  \n2  CREATE TABLE \"schools\" (\\n\"index\" INTEGER,\\n  ...  \n3  CREATE INDEX \"ix_schools_index\"ON \"schools\" (\"...  \n4  CREATE TABLE \"batting\" (\\n\"index\" INTEGER,\\n  ...  \n5  CREATE INDEX \"ix_batting_index\"ON \"batting\" (\"...  "
                    },
                    "metadata": {},
                    "output_type": "display_data"
                },
                {
                    "data": {
                        "text/html": "<div>\n<style scoped>\n    .dataframe tbody tr th:only-of-type {\n        vertical-align: middle;\n    }\n\n    .dataframe tbody tr th {\n        vertical-align: top;\n    }\n\n    .dataframe thead th {\n        text-align: right;\n    }\n</style>\n<table border=\"1\" class=\"dataframe\">\n  <thead>\n    <tr style=\"text-align: right;\">\n      <th></th>\n      <th>playerID</th>\n      <th>num_games_played</th>\n      <th>avg_starting_position</th>\n    </tr>\n  </thead>\n  <tbody>\n    <tr>\n      <th>0</th>\n      <td>musiast01</td>\n      <td>24.0</td>\n      <td>6.357143</td>\n    </tr>\n    <tr>\n      <th>1</th>\n      <td>mayswi01</td>\n      <td>24.0</td>\n      <td>8.000000</td>\n    </tr>\n    <tr>\n      <th>2</th>\n      <td>aaronha01</td>\n      <td>24.0</td>\n      <td>8.470588</td>\n    </tr>\n  </tbody>\n</table>\n</div>",
                        "text/plain": "    playerID  num_games_played  avg_starting_position\n0  musiast01              24.0               6.357143\n1   mayswi01              24.0               8.000000\n2  aaronha01              24.0               8.470588"
                    },
                    "execution_count": 4,
                    "metadata": {},
                    "output_type": "execute_result"
                }
            ],
            "source": "### BEGIN SOLUTION\n# Create a variable, `path`, containing the path to the `baseball.db` contained in `resources/`\npath = 'baseball.db'\n\n# Create a connection, `con`, that is connected to database at `path`\ncon = sq3.Connection(path)\n\n# Create a variable, `query`, containing a SQL query which reads in all data from the `` table\n\nquery = \"\"\"\nSELECT *\n    FROM allstarfull\n    ;\n\"\"\"\n\nallstar_observations = pd.read_sql(query, con)\n\n# print(allstar_observations)\n\n# Create a variable, tables, which reads in all data from the table sqlite_master\nall_tables = pd.read_sql('SELECT * FROM sqlite_master', con)\ndisplay(all_tables)\n\n# Pretend that you were interesting in creating a new baseball hall of fame. Join and analyze the tables to evaluate the top 3 all time best baseball players\nbest_query = \"\"\"\nSELECT playerID, sum(GP) AS num_games_played, AVG(startingPos) AS avg_starting_position\n    FROM allstarfull\n    GROUP BY playerID\n    ORDER BY num_games_played DESC, avg_starting_position ASC\n    LIMIT 3\n\"\"\"\nbest = pd.read_sql(best_query, con)\nbest.head()\n### END SOLUTION"
        },
        {
            "cell_type": "markdown",
            "metadata": {},
            "source": "---\n### Machine Learning Foundation (C) 2020 IBM Corporation"
        }
    ],
    "metadata": {
        "kernelspec": {
            "display_name": "Python 3.8",
            "language": "python",
            "name": "python3"
        },
        "language_info": {
            "codemirror_mode": {
                "name": "ipython",
                "version": 3
            },
            "file_extension": ".py",
            "mimetype": "text/x-python",
            "name": "python",
            "nbconvert_exporter": "python",
            "pygments_lexer": "ipython3",
            "version": "3.8.12"
        }
    },
    "nbformat": 4,
    "nbformat_minor": 4
}